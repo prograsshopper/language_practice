{
 "cells": [
  {
   "cell_type": "markdown",
   "metadata": {},
   "source": [
    "## quiz 0\n",
    "\n",
    "- 개인적으로는 집뷰 서비스를 사옹해봤을때 어떤 서비스인지 한눈에 들어오지 않는 느낌이 다소 있었습니다. VR 분양/중개관도 있고, 매물 탭에서도 세부에서 VR기능을 제공하고 있어 겹치는 기능이 중복되게 보여지고 있는 것 같아 기능들을 통합하는 편이 사용자 입장에서 더 보기 편할 것 같습니다."
   ]
  },
  {
   "cell_type": "code",
   "execution_count": 5,
   "metadata": {},
   "outputs": [],
   "source": [
    "# Quiz 1\n",
    "\n",
    "from collections import deque\n",
    "def braces_check(values):\n",
    "    result = None\n",
    "    my_stack = deque()\n",
    "    check = True\n",
    "    for elem in values:\n",
    "        if elem in ['(', '[', '{']:\n",
    "            my_stack.append(elem)\n",
    "        else:\n",
    "            if not my_stack or my_stack.pop() + elem not in ['()', '[]', '{}']:\n",
    "                check = False\n",
    "                break\n",
    "    if check:\n",
    "        return True\n",
    "    else:\n",
    "        return False"
   ]
  },
  {
   "cell_type": "code",
   "execution_count": 7,
   "metadata": {},
   "outputs": [
    {
     "name": "stdout",
     "output_type": "stream",
     "text": [
      "True\n",
      "False\n"
     ]
    }
   ],
   "source": [
    "brace1 = '{}[]()' \n",
    "brace2 = '{[}]}'\n",
    "print(braces_check(brace1))\n",
    "print(braces_check(brace2))"
   ]
  },
  {
   "cell_type": "code",
   "execution_count": 39,
   "metadata": {},
   "outputs": [],
   "source": [
    "# Quiz 2\n",
    "# 재귀\n",
    "# def get_raccoon(months):\n",
    "#     if months  == 0:\n",
    "#         return 2\n",
    "#     if months == 1:\n",
    "#         return 4\n",
    "#     return get_raccoon(months-1) + get_raccoon(months-2)\n",
    "# 다이나믹 프로그래밍\n",
    "from collections import defaultdict\n",
    "raccoon_memo = defaultdict(lambda:0)\n",
    "def get_raccoon(months):\n",
    "    for i in range(0, months+1):\n",
    "        if i == 0:\n",
    "            raccoon_memo[0] = 2\n",
    "        elif i == 1:\n",
    "            raccoon_memo[1] = 4\n",
    "        else:\n",
    "            raccoon_memo[i] = raccoon_memo[i-1] + raccoon_memo[i-2]\n",
    "    return raccoon_memo[months]"
   ]
  },
  {
   "cell_type": "code",
   "execution_count": 40,
   "metadata": {},
   "outputs": [
    {
     "name": "stdout",
     "output_type": "stream",
     "text": [
      "4\n",
      "6\n",
      "16\n"
     ]
    }
   ],
   "source": [
    "print(get_raccoon(1))\n",
    "print(get_raccoon(2))\n",
    "print(get_raccoon(4))"
   ]
  },
  {
   "cell_type": "code",
   "execution_count": null,
   "metadata": {},
   "outputs": [],
   "source": [
    "# Quiz 3\n"
   ]
  }
 ],
 "metadata": {
  "kernelspec": {
   "display_name": "Python 3.7.7 64-bit",
   "language": "python",
   "name": "python37764bit5dea74c7e69948759ddf027ddea58c74"
  },
  "language_info": {
   "codemirror_mode": {
    "name": "ipython",
    "version": 3
   },
   "file_extension": ".py",
   "mimetype": "text/x-python",
   "name": "python",
   "nbconvert_exporter": "python",
   "pygments_lexer": "ipython3",
   "version": "3.7.7"
  }
 },
 "nbformat": 4,
 "nbformat_minor": 2
}
