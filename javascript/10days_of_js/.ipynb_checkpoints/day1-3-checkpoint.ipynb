{
 "cells": [
  {
   "cell_type": "code",
   "execution_count": 2,
   "metadata": {},
   "outputs": [
    {
     "name": "stdout",
     "output_type": "stream",
     "text": [
      "Hello, World!\n"
     ]
    }
   ],
   "source": [
    "//  first day\n",
    "console.log('Hello, World!');"
   ]
  },
  {
   "cell_type": "code",
   "execution_count": 11,
   "metadata": {},
   "outputs": [
    {
     "name": "stdout",
     "output_type": "stream",
     "text": [
      "4 number\n",
      "4 number\n",
      "hello string\n"
     ]
    }
   ],
   "source": [
    "// second day : Data Types\n",
    "\n",
    "\n",
    "console.log(4, typeof(4));\n",
    "console.log(4.0, typeof(4.0));\n",
    "console.log(\"hello\", typeof(\"hello\"));"
   ]
  },
  {
   "cell_type": "code",
   "execution_count": 14,
   "metadata": {},
   "outputs": [
    {
     "name": "stdout",
     "output_type": "stream",
     "text": [
      "20\n"
     ]
    }
   ],
   "source": [
    "// third day : arithmetic\n",
    "\n",
    "function getArea(length, width) {\n",
    "    let area;\n",
    "    area = length * width;\n",
    "    return area;\n",
    "}\n",
    "\n",
    "length = 4;\n",
    "width = 5;\n",
    "console.log(getArea(length, width));"
   ]
  },
  {
   "cell_type": "code",
   "execution_count": null,
   "metadata": {},
   "outputs": [],
   "source": []
  }
 ],
 "metadata": {
  "kernelspec": {
   "display_name": "Javascript (Node.js)",
   "language": "javascript",
   "name": "javascript"
  },
  "language_info": {
   "file_extension": ".js",
   "mimetype": "application/javascript",
   "name": "javascript",
   "version": "12.3.1"
  }
 },
 "nbformat": 4,
 "nbformat_minor": 2
}
