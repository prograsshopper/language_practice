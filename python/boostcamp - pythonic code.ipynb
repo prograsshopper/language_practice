{
 "cells": [
  {
   "cell_type": "code",
   "execution_count": 1,
   "metadata": {},
   "outputs": [
    {
     "name": "stdout",
     "output_type": "stream",
     "text": [
      "0 : 안녕\n",
      "1 : hello\n",
      "2 : Bon jour\n",
      "3 : Hola\n"
     ]
    }
   ],
   "source": [
    "# enumerate\n",
    "my_list = ['안녕', 'hello', 'Bon jour', 'Hola']\n",
    "for i, hi in enumerate(my_list):\n",
    "    print(f'{i} : {hi}')"
   ]
  },
  {
   "cell_type": "code",
   "execution_count": 3,
   "metadata": {},
   "outputs": [
    {
     "name": "stdout",
     "output_type": "stream",
     "text": [
      "do, lu\n",
      "doo, luu\n",
      "ddo, llu\n"
     ]
    }
   ],
   "source": [
    "# zip\n",
    "list_one = ['do', 'doo', 'ddo']\n",
    "list_two = ['lu', 'luu', 'llu']\n",
    "\n",
    "for one, two in zip(list_one, list_two):\n",
    "    print(f'{one}, {two}')\n",
    "    \n",
    "# 벡터 등에 유용하게 사용\n",
    "# [1, 1] + [2, 2] = [3, 3]"
   ]
  },
  {
   "cell_type": "code",
   "execution_count": 4,
   "metadata": {},
   "outputs": [
    {
     "name": "stdout",
     "output_type": "stream",
     "text": [
      "0: ('do', 'lu')\n",
      "1: ('doo', 'luu')\n",
      "2: ('ddo', 'llu')\n"
     ]
    }
   ],
   "source": [
    "# 같이 사용\n",
    "\n",
    "for index, elem in enumerate(zip(list_one, list_two)):\n",
    "    print(f'{index}: {elem}')"
   ]
  },
  {
   "cell_type": "code",
   "execution_count": 14,
   "metadata": {},
   "outputs": [
    {
     "name": "stdout",
     "output_type": "stream",
     "text": [
      "[1, 4, 9, 16, 25]\n",
      "[2, 4, 6, 8, 10]\n",
      "[1, 4, 3, 16, 5]\n",
      "15\n",
      "120\n"
     ]
    }
   ],
   "source": [
    "# python 3부터 람다는 별로 권장하진 않으나 많이 쓰이고 있는 상태\n",
    "# 람다는 map. reduce를 같이 많이 씀\n",
    "# 파이썬에선 리스트 컴프리헨션이 권장된다\n",
    "\n",
    "# map: 시퀀스형 자료형의 각 element에 동일한 함수를 적용함.\n",
    "\n",
    "temp_list = [1, 2, 3, 4, 5]\n",
    "my_func = lambda x: x**2\n",
    "print(list(map(my_func, temp_list)))\n",
    "\n",
    "# zip 을 대체할 수도 있다\n",
    "new_func = lambda x, y: x+y\n",
    "print(list(map(new_func, temp_list, temp_list)))\n",
    "\n",
    "# 필터링도 가능하긴 하다. 대신에 이 경우엔 else 값을 꼭 써줘야한다.\n",
    "print(list(map(lambda x: x**2 if x % 2 == 0 else x,temp_list)))\n",
    "\n",
    "\n",
    "# reduce: map 과 달리 리스트에 같은 함수를 적용해서 통합\n",
    "# pandas에도 유용\n",
    "\n",
    "from functools import reduce\n",
    "print(reduce(lambda x, y: x+y, temp_list))\n",
    "# x=1, y=2 -> 3 + 3 -> ...\n",
    "\n",
    "# factorial\n",
    "print(reduce(lambda x, y: x*y, temp_list[::-1]))"
   ]
  },
  {
   "cell_type": "code",
   "execution_count": 1,
   "metadata": {},
   "outputs": [],
   "source": [
    "# asterisk : *, 곱셈, 제곱연산, 가변인자 활용 등 다양하게 사용\n",
    "# *args..\n",
    "\n",
    "# **kwargs: 키워드 인자"
   ]
  },
  {
   "cell_type": "code",
   "execution_count": 2,
   "metadata": {},
   "outputs": [
    {
     "data": {
      "text/plain": [
       "'\\nDequeue\\n- stack, queue를 지원하는 모듈\\n- list에 비해 훨씬 효율적인 방식을 지원함.\\n\\nappendleft: 스택식 자료 저장\\n'"
      ]
     },
     "execution_count": 2,
     "metadata": {},
     "output_type": "execute_result"
    }
   ],
   "source": [
    "\"\"\"\n",
    "Dequeue\n",
    "- stack, queue를 지원하는 모듈\n",
    "- list에 비해 훨씬 효율적인 방식을 지원함.\n",
    "\n",
    "appendleft: 스택식 자료 저장\n",
    "\"\"\""
   ]
  },
  {
   "cell_type": "code",
   "execution_count": 3,
   "metadata": {},
   "outputs": [
    {
     "data": {
      "text/plain": [
       "'\\nOrderedDict\\ndict를 key 혹은 value를 사용해서 정렬할 때 사용\\n'"
      ]
     },
     "execution_count": 3,
     "metadata": {},
     "output_type": "execute_result"
    }
   ],
   "source": [
    "\"\"\"\n",
    "OrderedDict\n",
    "dict를 key 혹은 value를 사용해서 정렬할 때 사용\n",
    "\"\"\""
   ]
  },
  {
   "cell_type": "code",
   "execution_count": 5,
   "metadata": {},
   "outputs": [
    {
     "name": "stdout",
     "output_type": "stream",
     "text": [
      "0\n"
     ]
    }
   ],
   "source": [
    "\"\"\"\n",
    "defaultdict\n",
    "만약 해당 키가 없어도 디폴트값이 지정된 딕트를 생성시 사용\n",
    "\"\"\"\n",
    "from collections import defaultdict\n",
    "\n",
    "d = defaultdict(object)\n",
    "d = defaultdict(lambda: 0)\n",
    "print(d[\"first\"])"
   ]
  },
  {
   "cell_type": "code",
   "execution_count": 6,
   "metadata": {},
   "outputs": [
    {
     "name": "stdout",
     "output_type": "stream",
     "text": [
      "Counter({'a': 3, 'l': 2, 'g': 1, 'h': 1, 'd': 1})\n"
     ]
    }
   ],
   "source": [
    "\"\"\"\n",
    "Counter\n",
    "- 시퀀스 타입의 데이터 갯수를 dict 형태로 반환\n",
    "\"\"\"\n",
    "\n",
    "from collections import Counter\n",
    "\n",
    "c = Counter(\"gallahad\")\n",
    "print(c)"
   ]
  },
  {
   "cell_type": "code",
   "execution_count": null,
   "metadata": {},
   "outputs": [],
   "source": []
  }
 ],
 "metadata": {
  "kernelspec": {
   "display_name": "Python 3",
   "language": "python",
   "name": "python3"
  },
  "language_info": {
   "codemirror_mode": {
    "name": "ipython",
    "version": 3
   },
   "file_extension": ".py",
   "mimetype": "text/x-python",
   "name": "python",
   "nbconvert_exporter": "python",
   "pygments_lexer": "ipython3",
   "version": "3.6.4"
  }
 },
 "nbformat": 4,
 "nbformat_minor": 2
}
