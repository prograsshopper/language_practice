{
 "cells": [
  {
   "cell_type": "code",
   "execution_count": 1,
   "metadata": {},
   "outputs": [
    {
     "data": {
      "text/plain": [
       "'\\n'"
      ]
     },
     "execution_count": 1,
     "metadata": {},
     "output_type": "execute_result"
    }
   ],
   "source": [
    "\"\"\"\n",
    "PS3:Sets+Collections+Itertools\n",
    "Problem Set 3 for Python Practice, created for Udacity Bertelsmann Challenge Data Track scholars.\n",
    "\n",
    "link: https://www.hackerrank.com/contests/udacity-dt-ps3/challenges\n",
    "\"\"\""
   ]
  },
  {
   "cell_type": "code",
   "execution_count": 2,
   "metadata": {},
   "outputs": [
    {
     "name": "stdout",
     "output_type": "stream",
     "text": [
      "3\n",
      "Korea\n",
      "US\n",
      "Ireland\n",
      "3\n"
     ]
    }
   ],
   "source": [
    "\"\"\"\n",
    "Set .add()\n",
    "\n",
    "If we want to add a single element to an existing set, we can use the .add() operation.\n",
    "\"\"\"\n",
    "\n",
    "country_set = set()\n",
    "for i in range(0, int(input())):\n",
    "    country_set.add(str(input()))\n",
    "print(len(country_set))"
   ]
  },
  {
   "cell_type": "code",
   "execution_count": 5,
   "metadata": {},
   "outputs": [
    {
     "data": {
      "text/plain": [
       "'\\nSet .discard(), .remove() & .pop()\\n\\n.remove(x)\\nThis operation removes element  from the set.\\nIf element  does not exist, it raises a KeyError.\\nThe .remove(x) operation returns None.\\n\\n\\n.discard(x)\\nThis operation also removes element  from the set.\\nIf element  does not exist, it does not raise a KeyError.\\nThe .discard(x) operation returns None.\\n\\n.pop()\\nThis operation removes and return an arbitrary element from the set.\\nIf there are no elements to remove, it raises a KeyError.\\n\\nQuestion:\\nYou have a non-empty set , and you have to execute  commands given in  lines.\\nThe commands will be pop, remove and discard.\\n'"
      ]
     },
     "execution_count": 5,
     "metadata": {},
     "output_type": "execute_result"
    }
   ],
   "source": [
    "\"\"\"\n",
    "Set .discard(), .remove() & .pop()\n",
    "\n",
    ".remove(x)\n",
    "This operation removes element  from the set.\n",
    "If element  does not exist, it raises a KeyError.\n",
    "The .remove(x) operation returns None.\n",
    "\n",
    "\n",
    ".discard(x)\n",
    "This operation also removes element  from the set.\n",
    "If element  does not exist, it does not raise a KeyError.\n",
    "The .discard(x) operation returns None.\n",
    "\n",
    ".pop()\n",
    "This operation removes and return an arbitrary element from the set.\n",
    "If there are no elements to remove, it raises a KeyError.\n",
    "\n",
    "Question:\n",
    "You have a non-empty set , and you have to execute  commands given in  lines.\n",
    "The commands will be pop, remove and discard.\n",
    "\"\"\"\n",
    "n = int(input())\n",
    "s = set(map(int, input().split()))\n",
    "N = int(input())\n",
    "for i in range(0, N):\n",
    "    command_str = input().split(\" \")\n",
    "    if len(command_str) > 1:\n",
    "        command, number = command_str\n",
    "    else:\n",
    "        command = command_str[0]\n",
    "    \n",
    "    if command == 'remove':\n",
    "        s.remove(int(number))\n",
    "    elif command == 'discard':\n",
    "        s.discard(int(number))\n",
    "    elif command == 'pop':\n",
    "        s.pop()\n",
    "print(sum(s))"
   ]
  },
  {
   "cell_type": "markdown",
   "metadata": {},
   "source": [
    "# .union()\n",
    "- The .union() operator returns the union of a set and the set of elements in an iterable.\n",
    "\n",
    "\n",
    "`s = set(\"Hacker\")\n",
    "print s.union(\"Rank\")\n",
    "set(['a', 'R', 'c', 'r', 'e', 'H', 'k', 'n'])\n",
    "\n",
    "print s.union(set(['R', 'a', 'n', 'k']))\n",
    "set(['a', 'R', 'c', 'r', 'e', 'H', 'k', 'n'])\n",
    "\n",
    "print s.union(['R', 'a', 'n', 'k'])\n",
    "set(['a', 'R', 'c', 'r', 'e', 'H', 'k', 'n'])\n",
    "\n",
    "print s.union(enumerate(['R', 'a', 'n', 'k']))\n",
    "set(['a', 'c', 'r', 'e', (1, 'a'), (2, 'n'), 'H', 'k', (3, 'k'), (0, 'R')])\n",
    "\n",
    "print s.union({\"Rank\":1})\n",
    "set(['a', 'c', 'r', 'e', 'H', 'k', 'Rank'])\n",
    "\n",
    "s | set(\"Rank\")\n",
    "set(['a', 'R', 'c', 'r', 'e', 'H', 'k', 'n'])`"
   ]
  },
  {
   "cell_type": "code",
   "execution_count": null,
   "metadata": {},
   "outputs": [],
   "source": [
    "eng_n = int(input())\n",
    "ori_s = set([int(i) for i in input().split(\" \")])\n",
    "fr_n = int(input())\n",
    "print(len(ori_s.union(set([int(j) for j in input().split(\" \")]))))"
   ]
  },
  {
   "cell_type": "markdown",
   "metadata": {},
   "source": [
    "# .intersection()\n",
    "- The .intersection() operator returns the intersection of a set and the set of elements in an iterable.\n",
    "\n",
    "> s = set(\"Hacker\")\n",
    "> print s.intersection(\"Rank\")\n",
    ">set(['a', 'k'])\n",
    "\n",
    "> print s.intersection(set(['R', 'a', 'n', 'k']))\n",
    ">set(['a', 'k'])\n",
    "\n",
    "> print s.intersection(['R', 'a', 'n', 'k'])\n",
    ">set(['a', 'k'])\n",
    "\n",
    "> print s.intersection(enumerate(['R', 'a', 'n', 'k']))\n",
    ">set([])\n",
    "\n",
    "> print s.intersection({\"Rank\":1})\n",
    ">set([])\n",
    "\n",
    "> s & set(\"Rank\")\n",
    ">set(['a', 'k'])"
   ]
  },
  {
   "cell_type": "code",
   "execution_count": null,
   "metadata": {},
   "outputs": [],
   "source": [
    "eng_n = int(input())\n",
    "ori_s = set([int(i) for i in input().split(\" \")])\n",
    "fr_n = int(input())\n",
    "print(len(ori_s.intersection(set([int(j) for j in input().split(\" \")]))))"
   ]
  }
 ],
 "metadata": {
  "kernelspec": {
   "display_name": "Python 3",
   "language": "python",
   "name": "python3"
  },
  "language_info": {
   "codemirror_mode": {
    "name": "ipython",
    "version": 3
   },
   "file_extension": ".py",
   "mimetype": "text/x-python",
   "name": "python",
   "nbconvert_exporter": "python",
   "pygments_lexer": "ipython3",
   "version": "3.6.4"
  }
 },
 "nbformat": 4,
 "nbformat_minor": 2
}
