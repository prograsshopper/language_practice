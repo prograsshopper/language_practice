{
 "cells": [
  {
   "cell_type": "code",
   "execution_count": 9,
   "metadata": {},
   "outputs": [
    {
     "name": "stdout",
     "output_type": "stream",
     "text": [
      "[60, 70, 83]\n",
      "71.0\n",
      "all :  [100, 60, 70, 83]\n",
      "last: 40\n",
      "Alice In Wonderland\n"
     ]
    }
   ],
   "source": [
    "# 1.1 순환시에 버리고 싶은 순환체의 경우엔 변수명을 _식으로 쓸 수 있다.\n",
    "\n",
    "# 1.2 임의 순환체의 요소 나누기\n",
    "# 순환체를 언패킹하는데 요소가 N개 이상 포함되어 값이 너무 많습니다 라는 예외 발생시\n",
    "# 파이썬 별 표현식을 사용하자\n",
    "\n",
    "# ex 과제 점수의 평균을 구할때 처음과 마지막 과제를 제외하고 중간 과제만 적용한다고 했을 경우\n",
    "def drop_first_last(tasks):\n",
    "    first, *middle, last = tasks\n",
    "    print(middle)\n",
    "    return sum(middle)/len(middle)\n",
    "\n",
    "tasks = [100, 60, 70, 83, 40]\n",
    "print(drop_first_last(tasks))\n",
    "\n",
    "# 별 표현식은 맨 앞에 쓸 수도 있다\n",
    "*all, last = tasks\n",
    "print(\"all : \" ,all)\n",
    "print('last:', last)\n",
    "\n",
    "# 버리는 용도로도 사용 가능\n",
    "\n",
    "record = ('Alice', 15, 3,1456, 'sdfsdsd', 'In Wonderland')\n",
    "name, *_, title = record\n",
    "print(name, title)"
   ]
  },
  {
   "cell_type": "code",
   "execution_count": 10,
   "metadata": {},
   "outputs": [
    {
     "data": {
      "text/plain": [
       "'\\nCollection\\n\\nDequeue\\n이름은 보통 deck이라고 발음하는데 Double-ended queue의 줄임말이라고 한다.\\ndequeue는 양 사이드에서 pop을 할 때의 O(1)의 효율성을 보장한다\\n\\n리스트 역시 비슷한 동작을 지원하기는 하지만 리스트의 경우엔 pop(0), insert(0, v)등을 할 때는 On)이 걸린다\\n\\nDequeue의 동작들\\nAppend(x) : dequeue의 오른쪽에 x를 집어넣는것\\nappendleft(x) :dequeue의 왼쪽에 x를 집어넣는것\\nclear(): dequeue의 길이가 0이 되도록 모든 아이템을 제거하는 동작\\ncopy() : Create a shallow copy of the deque.\\ncount(x): dequeue의 아이템갯수를 리턴\\nextend(iterable): iterable한 아이템을 받아 그만큼을 dequeue의 오른쪽을 확장해주는 동작\\nextendleft(iterable):iterable한 아이템을 받아 그만큼을 dequeue의 오른쪽을 확장해주는 동작. \\nNote, the series of left appends results in reversing the order of elements in the iterable argument.\\n\\nindex(x[, start[, stop]]):Return the position of x in the deque (at or after index start and before index stop). Returns the first match or raises ValueError if not found.\\ninsert(i, x):Insert x into the deque at position i.\\npop(): Remove and return an element from the right side of the deque. If no elements are present, raises an IndexError.\\npopleft(): Remove and return an element from the left side of the deque. If no elements are present, raises an IndexError.\\nremove(value): Remove the first occurrence of value. If not found, raises a ValueError.\\nreverse(): Reverse the elements of the deque in-place and then return None.\\n\\nrotate(n=1): Rotate the deque n steps to the right. If n is negative, rotate to the left.\\nWhen the deque is not empty, rotating one step to the right is equivalent to d.appendleft(d.pop()), \\nand rotating one step to the left is equivalent to d.append(d.popleft()).\\nDeque objects also provide one read-only attribute:\\n\\nmaxlen: Maximum size of a deque or None if unbounded.\\n'"
      ]
     },
     "execution_count": 10,
     "metadata": {},
     "output_type": "execute_result"
    }
   ],
   "source": [
    "# 1.3 마지막 N개 아이템 유지\n",
    "# 순환이나 프로세싱 중 마지막으로 발견한 N개의 아이템을 유지하고 싶다\n",
    "# collections.deque : https://docs.python.org/3.8/library/collections.html#collections.deque\n",
    "'''\n",
    "Collection\n",
    "\n",
    "deque\n",
    "이름은 보통 deck이라고 발음하는데 Double-ended queue의 줄임말이라고 한다.\n",
    "deque는 양 사이드에서 pop을 할 때의 O(1)의 효율성을 보장한다\n",
    "\n",
    "리스트 역시 비슷한 동작을 지원하기는 하지만 리스트의 경우엔 pop(0), insert(0, v)등을 할 때는 On)이 걸린다\n",
    "\n",
    "Dequeue의 동작들\n",
    "Append(x) : deque의 오른쪽에 x를 집어넣는것\n",
    "appendleft(x) :deque의 왼쪽에 x를 집어넣는것\n",
    "clear(): deque의 길이가 0이 되도록 모든 아이템을 제거하는 동작\n",
    "copy() : Create a shallow copy of the deque.\n",
    "count(x): deque의 아이템갯수를 리턴\n",
    "extend(iterable): iterable한 아이템을 받아 그만큼을 deque의 오른쪽을 확장해주는 동작\n",
    "extendleft(iterable):iterable한 아이템을 받아 그만큼을 deque의 오른쪽을 확장해주는 동작. \n",
    "Note, the series of left appends results in reversing the order of elements in the iterable argument.\n",
    "\n",
    "index(x[, start[, stop]]):Return the position of x in the deque (at or after index start and before index stop). Returns the first match or raises ValueError if not found.\n",
    "insert(i, x):Insert x into the deque at position i.\n",
    "pop(): Remove and return an element from the right side of the deque. If no elements are present, raises an IndexError.\n",
    "popleft(): Remove and return an element from the left side of the deque. If no elements are present, raises an IndexError.\n",
    "remove(value): Remove the first occurrence of value. If not found, raises a ValueError.\n",
    "reverse(): Reverse the elements of the deque in-place and then return None.\n",
    "\n",
    "rotate(n=1): Rotate the deque n steps to the right. If n is negative, rotate to the left.\n",
    "When the deque is not empty, rotating one step to the right is equivalent to d.appendleft(d.pop()), \n",
    "and rotating one step to the left is equivalent to d.append(d.popleft()).\n",
    "Deque objects also provide one read-only attribute:\n",
    "\n",
    "maxlen: Maximum size of a deque or None if unbounded.\n",
    "'''"
   ]
  },
  {
   "cell_type": "code",
   "execution_count": 13,
   "metadata": {},
   "outputs": [
    {
     "name": "stdout",
     "output_type": "stream",
     "text": [
      "[{'name': 'Asds', 'shares': 100, 'price': 100.1}, {'name': 'sdf', 'shares': 56, 'price': 222}, {'name': 'sfdfs', 'shares': 35, 'price': 356}]\n",
      "[{'name': 'qwqer', 'shares': 105, 'price': 9999}, {'name': 'zxczx', 'shares': 24, 'price': 1000}, {'name': 'ryt', 'shares': 78, 'price': 444}]\n"
     ]
    }
   ],
   "source": [
    "# 1.4 컬렉션 내부에서 가장 크거나 작은 N개의 아이템을 찾기\n",
    "# https://docs.python.org/3.8/library/heapq.html?highlight=heapq#module-heapq\n",
    "# heapq 의 nlargest, nsmallest가 있음\n",
    "\n",
    "import heapq\n",
    "\n",
    "portfolio = [\n",
    "    {'name': 'Asds', 'shares': 100, 'price': 100.1},\n",
    "    {'name': 'sfdfs', 'shares': 35, 'price': 356},\n",
    "    {'name': 'sdf', 'shares': 56, 'price': 222},\n",
    "    {'name': 'ryt', 'shares': 78, 'price': 444},\n",
    "    {'name': 'qwqer', 'shares': 105, 'price': 9999},\n",
    "    {'name': 'zxczx', 'shares': 24, 'price': 1000},\n",
    "]\n",
    "\n",
    "cheap = heapq.nsmallest(3, portfolio, key=lambda x: x['price'])\n",
    "expensive = heapq.nlargest(3, portfolio, key=lambda x: x['price'])\n",
    "print(cheap)\n",
    "print(expensive)"
   ]
  },
  {
   "cell_type": "code",
   "execution_count": null,
   "metadata": {},
   "outputs": [],
   "source": []
  }
 ],
 "metadata": {
  "kernelspec": {
   "display_name": "Python 3",
   "language": "python",
   "name": "python3"
  },
  "language_info": {
   "codemirror_mode": {
    "name": "ipython",
    "version": 3
   },
   "file_extension": ".py",
   "mimetype": "text/x-python",
   "name": "python",
   "nbconvert_exporter": "python",
   "pygments_lexer": "ipython3",
   "version": "3.6.4"
  }
 },
 "nbformat": 4,
 "nbformat_minor": 2
}
