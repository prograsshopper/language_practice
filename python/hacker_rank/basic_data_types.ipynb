{
 "cells": [
  {
   "cell_type": "code",
   "execution_count": 2,
   "metadata": {},
   "outputs": [
    {
     "name": "stdout",
     "output_type": "stream",
     "text": [
      "5\n",
      "1 8 8 9 9\n",
      "8\n"
     ]
    }
   ],
   "source": [
    "# Find the Runner-Up Score!\n",
    "# https://www.hackerrank.com/challenges/find-second-maximum-number-in-a-list/problem\n",
    "\n",
    "n = int(input())\n",
    "arr = map(int, input().split())\n",
    "score_set = set(arr)\n",
    "max_num = max(score_set)\n",
    "score_set.remove(max_num)\n",
    "print(max(score_set))\n"
   ]
  },
  {
   "cell_type": "code",
   "execution_count": 5,
   "metadata": {},
   "outputs": [
    {
     "name": "stdout",
     "output_type": "stream",
     "text": [
      "<class 'tuple'>\n"
     ]
    }
   ],
   "source": [
    "li = [1, 2]\n",
    "tyu = tuple(li)\n",
    "print(type(tyu))"
   ]
  },
  {
   "cell_type": "code",
   "execution_count": 7,
   "metadata": {},
   "outputs": [
    {
     "name": "stdout",
     "output_type": "stream",
     "text": [
      "3\n",
      "1 2 3\n",
      "2528502973977326415\n"
     ]
    }
   ],
   "source": [
    "# Tuples\n",
    "# https://www.hackerrank.com/challenges/python-tuples/problem\n",
    "# Ref : hash() - https://docs.python.org/3/library/functions.html#hash\n",
    "\n",
    "n = int(input())\n",
    "integer_list = map(int, input().split())\n",
    "ints_tuple = tuple(integer_list)\n",
    "print(hash(ints_tuple))"
   ]
  },
  {
   "cell_type": "code",
   "execution_count": 13,
   "metadata": {},
   "outputs": [
    {
     "name": "stdout",
     "output_type": "stream",
     "text": [
      "56.00\n"
     ]
    }
   ],
   "source": [
    "# Finding the percentage\n",
    "# https://www.hackerrank.com/challenges/finding-the-percentage/problem\n",
    "# lambda : https://wikidocs.net/64\n",
    "\n",
    "\n",
    "n = int(input())\n",
    "student_marks = {}\n",
    "for _ in range(n):\n",
    "    name, *line = input().split()\n",
    "    scores = list(map(float, line))\n",
    "    student_marks[name] = scores\n",
    "query_name = input()\n",
    "scores = student_marks[query_name]\n",
    "score_avg = (lambda x: sum(x)/ len(x))(scores)\n",
    "print(\"%0.2f\" % score_avg)"
   ]
  },
  {
   "cell_type": "code",
   "execution_count": 17,
   "metadata": {},
   "outputs": [
    {
     "name": "stdout",
     "output_type": "stream",
     "text": [
      "[2, 3]\n"
     ]
    }
   ],
   "source": []
  }
 ],
 "metadata": {
  "kernelspec": {
   "display_name": "Python 3",
   "language": "python",
   "name": "python3"
  },
  "language_info": {
   "codemirror_mode": {
    "name": "ipython",
    "version": 3
   },
   "file_extension": ".py",
   "mimetype": "text/x-python",
   "name": "python",
   "nbconvert_exporter": "python",
   "pygments_lexer": "ipython3",
   "version": "3.6.4"
  }
 },
 "nbformat": 4,
 "nbformat_minor": 2
}
